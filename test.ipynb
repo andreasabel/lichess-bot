{
 "cells": [
  {
   "cell_type": "code",
   "execution_count": 1,
   "metadata": {},
   "outputs": [],
   "source": [
    "import chess\n",
    "import chess.variant\n",
    "\n",
    "import lib.config\n",
    "import homemade\n",
    "\n",
    "eng = homemade.AlphaBeta([], {}, None, lib.config.Configuration(parameters={}))"
   ]
  },
  {
   "cell_type": "code",
   "execution_count": 7,
   "metadata": {},
   "outputs": [
    {
     "name": "stdout",
     "output_type": "stream",
     "text": [
      "r n b q k b n r\n",
      "p p p p p . p p\n",
      ". . . . . . . .\n",
      ". . . . N p . .\n",
      ". . . . . . . .\n",
      ". . . . . . . .\n",
      "P P P P P P P P\n",
      "R N B Q K B . R\n"
     ]
    }
   ],
   "source": [
    "board = chess.variant.AtomicBoard()\n",
    "board.push(chess.Move.from_uci(\"g1f3\"))\n",
    "board.push(chess.Move.from_uci(\"f7f5\"))\n",
    "board.push(chess.Move.from_uci(\"f3e5\"))\n",
    "# board.push(chess.Move.from_uci(\"b8c6\"))\n",
    "print(board)\n"
   ]
  },
  {
   "cell_type": "code",
   "execution_count": 11,
   "metadata": {},
   "outputs": [
    {
     "name": "stdout",
     "output_type": "stream",
     "text": [
      "Value: RatedMoveSequence(0.0, [Move.from_uci('d7d6'), Move.from_uci('e5f7')])\n",
      "RatedMoveSequence(-1.0, [Move.from_uci('g8h6'), Move.from_uci('e5f7'), Move.from_uci('h8g8'), Move.from_uci('f7d8')])\n",
      "RatedMoveSequence(-1.0, [Move.from_uci('g8f6'), Move.from_uci('e5f7'), Move.from_uci('h8g8'), Move.from_uci('f7d8')])\n",
      "RatedMoveSequence(-1.0, [Move.from_uci('b8c6'), Move.from_uci('e5f7'), Move.from_uci('g8h6'), Move.from_uci('f7d8')])\n",
      "RatedMoveSequence(-1.0, [Move.from_uci('b8a6'), Move.from_uci('e5f7'), Move.from_uci('g8h6'), Move.from_uci('f7d8')])\n",
      "RatedMoveSequence(-1.0, [Move.from_uci('h7h6'), Move.from_uci('e5f7'), Move.from_uci('h8h7'), Move.from_uci('f7d8')])\n",
      "RatedMoveSequence(-1.0, [Move.from_uci('g7g6'), Move.from_uci('e5f7'), Move.from_uci('g8h6'), Move.from_uci('f7d8')])\n",
      "RatedMoveSequence(-1.0, [Move.from_uci('e7e6'), Move.from_uci('e5d7')])\n",
      "RatedMoveSequence(-1.0, [Move.from_uci('d7d6'), Move.from_uci('e5d7'), Move.from_uci('g8h6'), Move.from_uci('d7f8')])\n",
      "RatedMoveSequence(-1.0, [Move.from_uci('c7c6'), Move.from_uci('e5d7')])\n",
      "RatedMoveSequence(-1.0, [Move.from_uci('b7b6'), Move.from_uci('e5f7'), Move.from_uci('g8h6'), Move.from_uci('f7d8')])\n",
      "RatedMoveSequence(-1.0, [Move.from_uci('a7a6'), Move.from_uci('e5f7'), Move.from_uci('g8h6'), Move.from_uci('f7d8')])\n",
      "RatedMoveSequence(-1.0, [Move.from_uci('f5f4'), Move.from_uci('e5f7'), Move.from_uci('g8h6'), Move.from_uci('f7d8')])\n",
      "RatedMoveSequence(-1.0, [Move.from_uci('h7h5'), Move.from_uci('e5f7'), Move.from_uci('h8h7'), Move.from_uci('f7d8')])\n",
      "RatedMoveSequence(-1.0, [Move.from_uci('g7g5'), Move.from_uci('e5f7'), Move.from_uci('g8h6'), Move.from_uci('f7d8')])\n",
      "RatedMoveSequence(-1.0, [Move.from_uci('d7d5'), Move.from_uci('e5d7'), Move.from_uci('g8h6'), Move.from_uci('d7f8')])\n",
      "RatedMoveSequence(-1.0, [Move.from_uci('c7c5'), Move.from_uci('e5d7')])\n",
      "RatedMoveSequence(-1.0, [Move.from_uci('b7b5'), Move.from_uci('e5f7'), Move.from_uci('g8h6'), Move.from_uci('f7d8')])\n",
      "RatedMoveSequence(-1.0, [Move.from_uci('a7a5'), Move.from_uci('e5f7'), Move.from_uci('g8h6'), Move.from_uci('f7d8')])\n"
     ]
    }
   ],
   "source": [
    "value = eng.value(board, 2, -1.0, 1.0)\n",
    "print(f\"Value: {value}\")\n",
    "policy = eng.policy(board, 4)\n",
    "# policy = eng.policy1(board, 2, -1.0, 1.0)\n",
    "# print(policy)\n",
    "# pretty print policy\n",
    "for move in policy:\n",
    "    print(move)\n",
    "\n",
    "\n"
   ]
  },
  {
   "cell_type": "code",
   "execution_count": 46,
   "metadata": {},
   "outputs": [
    {
     "name": "stdout",
     "output_type": "stream",
     "text": [
      "r . b q . . . r\n",
      "p p p p . . p p\n",
      ". . n . p . . .\n",
      ". . . . . . . .\n",
      ". . . . . . . .\n",
      ". . . . . . . .\n",
      "P P P P P P P P\n",
      "R N B Q K B . R\n"
     ]
    }
   ],
   "source": [
    "board.push(chess.Move.from_uci(\"g5f7\"))\n",
    "print(board)"
   ]
  },
  {
   "cell_type": "code",
   "execution_count": 47,
   "metadata": {},
   "outputs": [
    {
     "name": "stdout",
     "output_type": "stream",
     "text": [
      "r . b q . . . r\n",
      "p p p p . . p p\n",
      ". . n . p . . .\n",
      ". . . . . . . .\n",
      ". . . . . . . .\n",
      ". . . . . . . .\n",
      "P P P P P P P P\n",
      "R N B Q K B . R\n",
      "Outcome(termination=<Termination.VARIANT_LOSS: 9>, winner=True)\n",
      "False\n",
      "True\n"
     ]
    }
   ],
   "source": [
    "print(board)\n",
    "print(board.outcome())\n",
    "print(board.turn)\n",
    "print(board.is_variant_end())"
   ]
  }
 ],
 "metadata": {
  "kernelspec": {
   "display_name": "Python (venv)",
   "language": "python",
   "name": "venv"
  },
  "language_info": {
   "codemirror_mode": {
    "name": "ipython",
    "version": 3
   },
   "file_extension": ".py",
   "mimetype": "text/x-python",
   "name": "python",
   "nbconvert_exporter": "python",
   "pygments_lexer": "ipython3",
   "version": "3.13.1"
  }
 },
 "nbformat": 4,
 "nbformat_minor": 2
}
