{
 "cells": [
  {
   "cell_type": "code",
   "execution_count": 1,
   "metadata": {},
   "outputs": [],
   "source": [
    "import chess\n",
    "import chess.variant\n",
    "\n",
    "import lib.config\n",
    "import homemade\n",
    "\n",
    "eng = homemade.AlphaBeta([], {}, None, lib.config.Configuration(parameters={}))"
   ]
  },
  {
   "cell_type": "code",
   "execution_count": 2,
   "metadata": {},
   "outputs": [
    {
     "name": "stdout",
     "output_type": "stream",
     "text": [
      "r . b q k b n r\n",
      "p p p p . p p p\n",
      ". . n . p . . .\n",
      ". . . . . . N .\n",
      ". . . . . . . .\n",
      ". . . . . . . .\n",
      "P P P P P P P P\n",
      "R N B Q K B . R\n"
     ]
    }
   ],
   "source": [
    "board = chess.variant.AtomicBoard()\n",
    "board.push(chess.Move.from_uci(\"g1f3\"))\n",
    "board.push(chess.Move.from_uci(\"b8c6\"))\n",
    "board.push(chess.Move.from_uci(\"f3g5\"))\n",
    "board.push(chess.Move.from_uci(\"e7e6\"))\n",
    "print(board)\n"
   ]
  },
  {
   "cell_type": "code",
   "execution_count": 3,
   "metadata": {},
   "outputs": [
    {
     "name": "stdout",
     "output_type": "stream",
     "text": [
      "Value: RatedMoveSequence(0.0, [Move.from_uci('g5h7'), Move.from_uci('f8e7')])\n",
      "RatedMoveSequence(0.0, [Move.from_uci('g5h7'), Move.from_uci('f8e7')])\n",
      "RatedMoveSequence(-9.9, [Move.from_uci('g5f7')])\n",
      "RatedMoveSequence(-9.9, [Move.from_uci('g5e6')])\n",
      "RatedMoveSequence(-9.9, [Move.from_uci('g5e4')])\n",
      "RatedMoveSequence(-9.9, [Move.from_uci('g5h3')])\n",
      "RatedMoveSequence(-9.9, [Move.from_uci('g5f3')])\n",
      "RatedMoveSequence(-9.9, [Move.from_uci('h1g1')])\n",
      "RatedMoveSequence(-9.9, [Move.from_uci('b1c3')])\n",
      "RatedMoveSequence(-9.9, [Move.from_uci('b1a3')])\n",
      "RatedMoveSequence(-9.9, [Move.from_uci('h2h3')])\n",
      "RatedMoveSequence(-9.9, [Move.from_uci('g2g3')])\n",
      "RatedMoveSequence(-9.9, [Move.from_uci('f2f3')])\n",
      "RatedMoveSequence(-9.9, [Move.from_uci('e2e3')])\n",
      "RatedMoveSequence(-9.9, [Move.from_uci('d2d3')])\n",
      "RatedMoveSequence(-9.9, [Move.from_uci('c2c3')])\n",
      "RatedMoveSequence(-9.9, [Move.from_uci('b2b3')])\n",
      "RatedMoveSequence(-9.9, [Move.from_uci('a2a3')])\n",
      "RatedMoveSequence(-9.9, [Move.from_uci('h2h4')])\n",
      "RatedMoveSequence(-9.9, [Move.from_uci('g2g4')])\n",
      "RatedMoveSequence(-9.9, [Move.from_uci('f2f4')])\n",
      "RatedMoveSequence(-9.9, [Move.from_uci('e2e4')])\n",
      "RatedMoveSequence(-9.9, [Move.from_uci('d2d4')])\n",
      "RatedMoveSequence(-9.9, [Move.from_uci('c2c4')])\n",
      "RatedMoveSequence(-9.9, [Move.from_uci('b2b4')])\n",
      "RatedMoveSequence(-9.9, [Move.from_uci('a2a4')])\n"
     ]
    }
   ],
   "source": [
    "value = eng.value(board, 2, -1.0, 0.0)\n",
    "print(f\"Value: {value}\")\n",
    "policy = eng.policy(board, 2, -1.0, 0.0)\n",
    "# print(policy)\n",
    "# pretty print policy\n",
    "for move in policy:\n",
    "    print(move)\n",
    "\n",
    "\n"
   ]
  },
  {
   "cell_type": "code",
   "execution_count": 46,
   "metadata": {},
   "outputs": [
    {
     "name": "stdout",
     "output_type": "stream",
     "text": [
      "r . b q . . . r\n",
      "p p p p . . p p\n",
      ". . n . p . . .\n",
      ". . . . . . . .\n",
      ". . . . . . . .\n",
      ". . . . . . . .\n",
      "P P P P P P P P\n",
      "R N B Q K B . R\n"
     ]
    }
   ],
   "source": [
    "board.push(chess.Move.from_uci(\"g5f7\"))\n",
    "print(board)"
   ]
  },
  {
   "cell_type": "code",
   "execution_count": 47,
   "metadata": {},
   "outputs": [
    {
     "name": "stdout",
     "output_type": "stream",
     "text": [
      "r . b q . . . r\n",
      "p p p p . . p p\n",
      ". . n . p . . .\n",
      ". . . . . . . .\n",
      ". . . . . . . .\n",
      ". . . . . . . .\n",
      "P P P P P P P P\n",
      "R N B Q K B . R\n",
      "Outcome(termination=<Termination.VARIANT_LOSS: 9>, winner=True)\n",
      "False\n",
      "True\n"
     ]
    }
   ],
   "source": [
    "print(board)\n",
    "print(board.outcome())\n",
    "print(board.turn)\n",
    "print(board.is_variant_end())"
   ]
  }
 ],
 "metadata": {
  "kernelspec": {
   "display_name": "Python (venv)",
   "language": "python",
   "name": "venv"
  },
  "language_info": {
   "codemirror_mode": {
    "name": "ipython",
    "version": 3
   },
   "file_extension": ".py",
   "mimetype": "text/x-python",
   "name": "python",
   "nbconvert_exporter": "python",
   "pygments_lexer": "ipython3",
   "version": "3.13.1"
  }
 },
 "nbformat": 4,
 "nbformat_minor": 2
}
